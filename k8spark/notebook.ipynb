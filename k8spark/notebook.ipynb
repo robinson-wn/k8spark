{
 "cells": [
  {
   "cell_type": "markdown",
   "source": [
    "# compute pi demonstration notebook"
   ],
   "metadata": {
    "collapsed": false,
    "pycharm": {
     "name": "#%% md\n"
    }
   }
  },
  {
   "cell_type": "code",
   "execution_count": null,
   "outputs": [],
   "source": [
    "import pyspark\n",
    "from pyspark.sql import SparkSession\n",
    "from functools import lru_cache\n",
    "\n",
    "@lru_cache(maxsize=None)\n",
    "def get_spark(name=\"k8spark\") -> SparkSession:\n",
    "    return SparkSession.builder.appName(name).getOrCreate()"
   ],
   "metadata": {
    "collapsed": false,
    "pycharm": {
     "name": "#%%\n"
    }
   }
  },
  {
   "cell_type": "code",
   "execution_count": null,
   "outputs": [],
   "source": [
    "from operator import add\n",
    "from random import random\n",
    "from time import time\n",
    "\n",
    "import numpy as np"
   ],
   "metadata": {
    "collapsed": false,
    "pycharm": {
     "name": "#%%\n"
    }
   }
  },
  {
   "cell_type": "code",
   "execution_count": null,
   "outputs": [],
   "source": [
    "MILLION = 1000000\n",
    "n = MILLION * 100\n",
    "partitions = 20\n",
    "# 7 = 15.6s, 1 = 34s"
   ],
   "metadata": {
    "collapsed": false,
    "pycharm": {
     "name": "#%%\n"
    }
   }
  },
  {
   "cell_type": "code",
   "execution_count": null,
   "outputs": [],
   "source": [
    "def is_point_inside_unit_circle(_):\n",
    "    x, y = random(), random()\n",
    "    return 1 if x * x + y * y < 1 else 0\n",
    "\n",
    "\n",
    "def calculate_pi():\n",
    "    t_0 = time()\n",
    "    # parallelize creates a spark Resilient Distributed Dataset (RDD)\n",
    "    # its values are useless in this case\n",
    "    # but allows us to distribute our calculation (inside function)\n",
    "    spark = get_spark()\n",
    "    spark.sparkContext.setLogLevel(\"WARN\")\n",
    "    count = spark.sparkContext.parallelize(range(0, n), partitions) \\\n",
    "        .map(is_point_inside_unit_circle).reduce(add)\n",
    "    print(f\"{np.round(time() - t_0, 3)}, seconds elapsed for spark approach and n={n}\")\n",
    "    print(f\"Pi is roughly {(4.0 * count / n)}\")\n",
    "\n",
    "\n",
    "def main():\n",
    "    print(\"Hello World from PySpark\")\n",
    "    print(f\"Computing Pi with {n:,} points using {partitions} partitions\")\n",
    "    calculate_pi()"
   ],
   "metadata": {
    "collapsed": false,
    "pycharm": {
     "name": "#%%\n"
    }
   }
  },
  {
   "cell_type": "code",
   "execution_count": null,
   "outputs": [],
   "source": [
    "main()"
   ],
   "metadata": {
    "collapsed": false,
    "pycharm": {
     "name": "#%%\n"
    }
   }
  }
 ],
 "metadata": {
  "kernelspec": {
   "display_name": "Python 3",
   "language": "python",
   "name": "python3"
  },
  "language_info": {
   "codemirror_mode": {
    "name": "ipython",
    "version": 2
   },
   "file_extension": ".py",
   "mimetype": "text/x-python",
   "name": "python",
   "nbconvert_exporter": "python",
   "pygments_lexer": "ipython2",
   "version": "2.7.6"
  }
 },
 "nbformat": 4,
 "nbformat_minor": 0
}